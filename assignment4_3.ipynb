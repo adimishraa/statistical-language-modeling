{
 "cells": [
  {
   "cell_type": "code",
   "execution_count": 1,
   "metadata": {},
   "outputs": [],
   "source": [
    "import numpy as np\n",
    "import texttable as tt\n",
    "from matplotlib import pyplot as plt"
   ]
  },
  {
   "cell_type": "code",
   "execution_count": 2,
   "metadata": {},
   "outputs": [],
   "source": [
    "unigram=[]\n",
    "with open('hw4_unigram.txt','r') as uf:\n",
    "    lines=uf.readlines()\n",
    "for line in lines:\n",
    "    unigram.append(int(line))\n"
   ]
  },
  {
   "cell_type": "code",
   "execution_count": 3,
   "metadata": {},
   "outputs": [],
   "source": [
    "vocab=[]\n",
    "with open('hw4_vocab.txt','r') as vb:\n",
    "    lines=vb.readlines()\n",
    "for line in lines:\n",
    "    vocab.append(line)\n"
   ]
  },
  {
   "cell_type": "code",
   "execution_count": 4,
   "metadata": {},
   "outputs": [],
   "source": [
    "in1=[]\n",
    "in2=[]\n",
    "cn=[]\n",
    "with open('hw4_bigram.txt','r') as bi:\n",
    "    lines=bi.readlines()\n",
    "for line in lines:\n",
    "    lx=line.split('\\t')\n",
    "    in1.append(int(lx[0]))\n",
    "    in2.append(int(lx[1]))\n",
    "    cn.append(int(lx[2]))"
   ]
  },
  {
   "cell_type": "code",
   "execution_count": 5,
   "metadata": {},
   "outputs": [
    {
     "name": "stdout",
     "output_type": "stream",
     "text": [
      "(144981,)\n",
      "(144981,)\n",
      "(144981,)\n",
      "(500,)\n",
      "(500,)\n",
      "500\n"
     ]
    }
   ],
   "source": [
    "print(np.shape(in1))\n",
    "print(np.shape(in2))\n",
    "print(np.shape(cn))\n",
    "print(np.shape(vocab))\n",
    "print(np.shape(unigram))\n",
    "print(in1[144980])"
   ]
  },
  {
   "cell_type": "code",
   "execution_count": 6,
   "metadata": {},
   "outputs": [],
   "source": [
    "uprob=[]\n",
    "untotal=np.sum(unigram)\n",
    "for un in unigram:\n",
    "    uprob.append(un/untotal)"
   ]
  },
  {
   "cell_type": "code",
   "execution_count": 7,
   "metadata": {},
   "outputs": [
    {
     "name": "stdout",
     "output_type": "stream",
     "text": [
      "WORD        PROBABILITY\n",
      "MILLION\n",
      "     0.00207\n",
      "MORE\n",
      "     0.00171\n",
      "MR.\n",
      "     0.00144\n",
      "MOST\n",
      "     0.00079\n",
      "MARKET\n",
      "     0.00078\n",
      "MAY\n",
      "     0.00073\n",
      "M.\n",
      "     0.0007\n",
      "MANY\n",
      "     0.0007\n",
      "MADE\n",
      "     0.00056\n",
      "MUCH\n",
      "     0.00051\n",
      "MAKE\n",
      "     0.00051\n",
      "MONTH\n",
      "     0.00044\n",
      "MONEY\n",
      "     0.00044\n",
      "MONTHS\n",
      "     0.00041\n",
      "MY\n",
      "     0.0004\n",
      "MONDAY\n",
      "     0.00038\n",
      "MAJOR\n",
      "     0.00037\n",
      "MILITARY\n",
      "     0.00035\n",
      "MEMBERS\n",
      "     0.00034\n",
      "MIGHT\n",
      "     0.00027\n",
      "MEETING\n",
      "     0.00027\n",
      "MUST\n",
      "     0.00027\n",
      "ME\n",
      "     0.00026\n",
      "MARCH\n",
      "     0.00026\n",
      "MAN\n",
      "     0.00025\n",
      "MS.\n",
      "     0.00024\n",
      "MINISTER\n",
      "     0.00024\n",
      "MAKING\n",
      "     0.00021\n",
      "MOVE\n",
      "     0.00021\n",
      "MILES\n",
      "     0.00021\n"
     ]
    }
   ],
   "source": [
    "#Task A\n",
    "print('WORD        PROBABILITY')\n",
    "for i,word in enumerate(vocab):\n",
    "    if(word.capitalize()[0]=='M'):\n",
    "        print(word+\"     \"+str(round(uprob[i],5)))\n"
   ]
  },
  {
   "cell_type": "code",
   "execution_count": 8,
   "metadata": {},
   "outputs": [],
   "source": [
    "#Task B\n",
    "pwgw1=np.zeros([500,500])\n",
    "inx=0\n",
    "for i,j in zip(in1,in2):\n",
    "    pwgw1[i-1][j-1]=cn[inx]/unigram[i-1]\n",
    "    inx+=1\n"
   ]
  },
  {
   "cell_type": "code",
   "execution_count": 9,
   "metadata": {},
   "outputs": [
    {
     "name": "stdout",
     "output_type": "stream",
     "text": [
      "WORD     PROBABILITY\n",
      "<UNK>\n",
      "    0.61502\n",
      "U.\n",
      "    0.01337\n",
      "FIRST\n",
      "    0.01172\n",
      "COMPANY\n",
      "    0.01166\n",
      "NEW\n",
      "    0.00945\n",
      "UNITED\n",
      "    0.00867\n",
      "GOVERNMENT\n",
      "    0.0068\n",
      "NINETEEN\n",
      "    0.00665\n",
      "SAME\n",
      "    0.00629\n",
      "TWO\n",
      "    0.00616\n"
     ]
    }
   ],
   "source": [
    "#Task B\n",
    "pwthe=pwgw1[vocab.index('THE\\n')][:]\n",
    "arr=np.array(pwthe)\n",
    "args=arr.argsort()[-10:][::-1]\n",
    "print('WORD     PROBABILITY')\n",
    "for i in args:\n",
    "    print(vocab[i]+\"    \"+str(round(pwgw1[vocab.index('THE\\n')][i],5)))\n"
   ]
  },
  {
   "cell_type": "code",
   "execution_count": 10,
   "metadata": {},
   "outputs": [],
   "source": [
    "#Part d\n",
    "def get_likelihood(sentence):\n",
    "    sentence2=sentence[1:]\n",
    "    prod1=1\n",
    "    prod2=1\n",
    "    adj1=[]\n",
    "    adj2=[]\n",
    "    for word1,word2 in zip(sentence,sentence2):\n",
    "        prod1*=uprob[vocab.index(word2+'\\n')]\n",
    "        if (pwgw1[vocab.index(word1+'\\n')][vocab.index(word2+'\\n')]==0):\n",
    "            prod2=0\n",
    "            adj1.append(word1)\n",
    "            adj2.append(word2)\n",
    "        else:\n",
    "            prod2*=pwgw1[vocab.index(word1+'\\n')][vocab.index(word2+'\\n')]\n",
    "    return prod1,prod2,adj1,adj2"
   ]
  },
  {
   "cell_type": "code",
   "execution_count": 11,
   "metadata": {},
   "outputs": [],
   "source": [
    "def print_answer(sentence):\n",
    "    prod1,prod2,adj1,adj2=get_likelihood(sentence)\n",
    "    print('The log likelihood of the unigram model is '+ str(np.log(prod1)))\n",
    "    if(prod2==0):\n",
    "        print('The log likelihood of the bigram model is undefined')\n",
    "        print('The pair of adjacent words not observed in training corpus: ')\n",
    "        for word1,word2 in zip(adj1,adj2):\n",
    "            print(word1+'  '+word2)\n",
    "    else:\n",
    "        print('the log likelihood of the bigram model is '+ str(np.log(prod2)))"
   ]
  },
  {
   "cell_type": "code",
   "execution_count": 12,
   "metadata": {},
   "outputs": [
    {
     "name": "stdout",
     "output_type": "stream",
     "text": [
      "The log likelihood of the unigram model is -64.50944034364878\n",
      "the log likelihood of the bigram model is -40.91813213378977\n"
     ]
    }
   ],
   "source": [
    "sentence=['<s>','THE','STOCK','MARKET','FELL','BY','ONE','HUNDRED','POINTS','LAST','WEEK']\n",
    "print_answer(sentence)"
   ]
  },
  {
   "cell_type": "code",
   "execution_count": 13,
   "metadata": {},
   "outputs": [
    {
     "name": "stdout",
     "output_type": "stream",
     "text": [
      "The log likelihood of the unigram model is -44.291934473132606\n",
      "The log likelihood of the bigram model is undefined\n",
      "The pair of adjacent words not observed in training corpus: \n",
      "SIXTEEN  OFFICIALS\n",
      "SOLD  FIRE\n"
     ]
    }
   ],
   "source": [
    "sentence=['<s>','THE','SIXTEEN','OFFICIALS','SOLD','FIRE','INSURANCE']\n",
    "print_answer(sentence)"
   ]
  },
  {
   "cell_type": "code",
   "execution_count": 14,
   "metadata": {},
   "outputs": [],
   "source": [
    "def lambda_likelihood(sentence,sentence2,lbd):\n",
    "    prod1=1\n",
    "    prod2=1\n",
    "    ans=1\n",
    "    for word1,word2 in zip(sentence,sentence2):\n",
    "        prod1=uprob[vocab.index(word2+'\\n')]\n",
    "        prod2=pwgw1[vocab.index(word1+'\\n')][vocab.index(word2+'\\n')]\n",
    "        ans*=lbd*prod1+(1-lbd)*prod2\n",
    "    return np.log(ans)"
   ]
  },
  {
   "cell_type": "code",
   "execution_count": 15,
   "metadata": {},
   "outputs": [],
   "source": [
    "sentence=['<s>','THE','SIXTEEN','OFFICIALS','SOLD','FIRE','INSURANCE']\n",
    "sentence2=sentence[1:]\n",
    "ans=[]\n",
    "for lbd in np.arange(0.1,1.1,0.05):\n",
    "    ans.append(lambda_likelihood(sentence,sentence2,lbd))"
   ]
  },
  {
   "cell_type": "code",
   "execution_count": 16,
   "metadata": {},
   "outputs": [
    {
     "data": {
      "text/plain": [
       "[<matplotlib.lines.Line2D at 0x29f5a1913c8>]"
      ]
     },
     "execution_count": 16,
     "metadata": {},
     "output_type": "execute_result"
    },
    {
     "data": {
      "image/png": "[encoded data removed]",
      "text/plain": [
       "<Figure size 432x288 with 1 Axes>"
      ]
     },
     "metadata": {
      "needs_background": "light"
     },
     "output_type": "display_data"
    }
   ],
   "source": [
    "plt.figure(1)\n",
    "plt.xlabel('Range of Lambda')\n",
    "plt.ylabel('log likelihood of the sentence')\n",
    "plt.plot(np.arange(0.1,1.1,0.05),ans)"
   ]
  },
  {
   "cell_type": "code",
   "execution_count": 17,
   "metadata": {},
   "outputs": [
    {
     "name": "stdout",
     "output_type": "stream",
     "text": [
      "max value of log likelihood -42.96416428296298\n",
      "value of lambda at which max value of log likelihood occurs 0.6500000000000001\n"
     ]
    }
   ],
   "source": [
    "print('max value of log likelihood '+str(np.max(ans)))\n",
    "print('value of lambda at which max value of log likelihood occurs '+ str(np.arange(0.1,1.1,0.05)[np.argmax(ans)]))"
   ]
  },
  {
   "cell_type": "code",
   "execution_count": null,
   "metadata": {},
   "outputs": [],
   "source": []
  },
  {
   "cell_type": "code",
   "execution_count": null,
   "metadata": {},
   "outputs": [],
   "source": []
  },
  {
   "cell_type": "code",
   "execution_count": null,
   "metadata": {},
   "outputs": [],
   "source": []
  }
 ],
 "metadata": {
  "kernelspec": {
   "display_name": "Python 3",
   "language": "python",
   "name": "python3"
  },
  "language_info": {
   "codemirror_mode": {
    "name": "ipython",
    "version": 3
   },
   "file_extension": ".py",
   "mimetype": "text/x-python",
   "name": "python",
   "nbconvert_exporter": "python",
   "pygments_lexer": "ipython3",
   "version": "3.7.3"
  }
 },
 "nbformat": 4,
 "nbformat_minor": 2
}
